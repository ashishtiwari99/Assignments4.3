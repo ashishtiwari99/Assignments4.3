{
 "cells": [
  {
   "cell_type": "code",
   "execution_count": 8,
   "id": "404b3b77-1a9c-4fc8-84a0-aa5c3b868b1b",
   "metadata": {},
   "outputs": [],
   "source": [
    "import abc\n",
    "class vehicle :\n",
    "    \n",
    "    \n",
    "    @abc.abstractmethod\n",
    "    def thar_details(self):\n",
    "        pass\n",
    "    \n",
    "    @abc.abstractmethod\n",
    "    def thar_documents(self):\n",
    "        pass"
   ]
  },
  {
   "cell_type": "code",
   "execution_count": 15,
   "id": "949fc750-8ead-4d87-a8fb-4c8bb61f4b07",
   "metadata": {},
   "outputs": [],
   "source": [
    "class thar_details(vehicle):\n",
    "    \n",
    "    def thar_details(self):\n",
    "        return\"this is a number one car in india\"\n",
    "    \n",
    "    def thar_documents(self):\n",
    "        return \"documents of car is right\"      \n",
    "        "
   ]
  },
  {
   "cell_type": "code",
   "execution_count": 16,
   "id": "6942c4ac-a984-4b6c-92eb-cc00e5a603f5",
   "metadata": {},
   "outputs": [],
   "source": [
    "class thar_driving_masters(vehicle):\n",
    "    \n",
    "    def thar_details(self):\n",
    "        return \" this is return a thar details of thar driving masters\"\n",
    "    \n",
    "    def thar_documents(self):\n",
    "        return \"this will give you a thar documents for thar driving masters\""
   ]
  },
  {
   "cell_type": "code",
   "execution_count": 17,
   "id": "671693da-26ac-4e38-9425-951efbac5254",
   "metadata": {},
   "outputs": [
    {
     "data": {
      "text/plain": [
       "' this is return a thar details of thar driving masters'"
      ]
     },
     "execution_count": 17,
     "metadata": {},
     "output_type": "execute_result"
    }
   ],
   "source": [
    "tdm = thar_driving_masters()\n",
    "tdm.thar_details()"
   ]
  },
  {
   "cell_type": "code",
   "execution_count": 18,
   "id": "c01d2832-fb33-4bb8-a1db-88fb2017c3d2",
   "metadata": {},
   "outputs": [
    {
     "data": {
      "text/plain": [
       "'this is a number one car in india'"
      ]
     },
     "execution_count": 18,
     "metadata": {},
     "output_type": "execute_result"
    }
   ],
   "source": [
    "td = thar_details()\n",
    "td.thar_details()"
   ]
  },
  {
   "cell_type": "code",
   "execution_count": 19,
   "id": "c7d34ace-851e-48c9-a189-4da9f32eaf64",
   "metadata": {},
   "outputs": [],
   "source": [
    "#difference between Abstraction and Encapsulation\n",
    "\n",
    "#Abstraction\n",
    "\n",
    "#1.it is the process of gaining information.\n",
    "#2.the problems in this technique are solved at the interface level.\n",
    "#3.it helpes hide the unwanted details or information.\n",
    "\n",
    "\n",
    "#Encapsulation\n",
    "\n",
    "#1.it is a method that helps wrap up data into a single module.\n",
    "#2.Problems of encapsulation are solved at the  implementation level.\n",
    "#3.it helps hide data using a single entity, or using a unit with the help of method that helps protect"
   ]
  },
  {
   "cell_type": "code",
   "execution_count": 20,
   "id": "9ff1410e-3a4f-4ef6-9b68-b697cca79ec3",
   "metadata": {},
   "outputs": [],
   "source": [
    "#The 'abc' module in the python library provides the infrastructure for definding custum abstract base classes.\n",
    "#Abstract class cannot be instantiated in python. An abstract method can be call by its subclasses."
   ]
  },
  {
   "cell_type": "code",
   "execution_count": 21,
   "id": "649e5176-c42d-441f-b2d4-8af6f8515fa5",
   "metadata": {},
   "outputs": [],
   "source": [
    "#We can achieve data abstraction through abstract classes and interfaces."
   ]
  },
  {
   "cell_type": "code",
   "execution_count": 22,
   "id": "14bb7aad-a380-44a0-86b6-6e498b1c136f",
   "metadata": {},
   "outputs": [],
   "source": [
    "#abstract classes cannot be instantiated,but they can be subcla"
   ]
  },
  {
   "cell_type": "code",
   "execution_count": null,
   "id": "5c4551f4-710f-482e-8483-bb9ea977bf55",
   "metadata": {},
   "outputs": [],
   "source": []
  }
 ],
 "metadata": {
  "kernelspec": {
   "display_name": "Python 3 (ipykernel)",
   "language": "python",
   "name": "python3"
  },
  "language_info": {
   "codemirror_mode": {
    "name": "ipython",
    "version": 3
   },
   "file_extension": ".py",
   "mimetype": "text/x-python",
   "name": "python",
   "nbconvert_exporter": "python",
   "pygments_lexer": "ipython3",
   "version": "3.10.8"
  }
 },
 "nbformat": 4,
 "nbformat_minor": 5
}
